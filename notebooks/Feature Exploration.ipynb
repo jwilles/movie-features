{
 "cells": [
  {
   "cell_type": "code",
   "execution_count": 1,
   "metadata": {},
   "outputs": [],
   "source": [
    "#import dependencies\n",
    "import pandas as pd\n",
    "import numpy as np\n",
    "import random as rnd\n",
    "\n",
    "\n",
    "import seaborn as sns\n",
    "import matplotlib.pyplot as plt\n",
    "%matplotlib inline"
   ]
  },
  {
   "cell_type": "code",
   "execution_count": 3,
   "metadata": {},
   "outputs": [],
   "source": [
    "df = pd.read_csv('../data/features.csv')"
   ]
  },
  {
   "cell_type": "code",
   "execution_count": 7,
   "metadata": {},
   "outputs": [
    {
     "data": {
      "text/html": [
       "<div>\n",
       "<table border=\"1\" class=\"dataframe\">\n",
       "  <thead>\n",
       "    <tr style=\"text-align: right;\">\n",
       "      <th></th>\n",
       "      <th>Title</th>\n",
       "      <th>Year</th>\n",
       "      <th>Rated</th>\n",
       "      <th>Genre</th>\n",
       "      <th>Director</th>\n",
       "      <th>Actors</th>\n",
       "      <th>imdbRating</th>\n",
       "    </tr>\n",
       "  </thead>\n",
       "  <tbody>\n",
       "    <tr>\n",
       "      <th>0</th>\n",
       "      <td>Jigsaw</td>\n",
       "      <td>2017</td>\n",
       "      <td>R</td>\n",
       "      <td>Crime, Horror, Mystery</td>\n",
       "      <td>Michael Spierig, Peter Spierig</td>\n",
       "      <td>Matt Passmore, Tobin Bell, Callum Keith Rennie...</td>\n",
       "      <td>6.1</td>\n",
       "    </tr>\n",
       "    <tr>\n",
       "      <th>1</th>\n",
       "      <td>Suburbicon</td>\n",
       "      <td>2017</td>\n",
       "      <td>R</td>\n",
       "      <td>Crime, Drama, Mystery</td>\n",
       "      <td>George Clooney</td>\n",
       "      <td>Steve Monroe, Gavin Wilde, Landon Gordon, Hope...</td>\n",
       "      <td>5.4</td>\n",
       "    </tr>\n",
       "    <tr>\n",
       "      <th>2</th>\n",
       "      <td>Thank You For Your Service</td>\n",
       "      <td>2017</td>\n",
       "      <td>R</td>\n",
       "      <td>Biography, Drama, War</td>\n",
       "      <td>Jason Hall</td>\n",
       "      <td>Haley Bennett, Miles Teller, Joe Cole, Amy Sch...</td>\n",
       "      <td>6.6</td>\n",
       "    </tr>\n",
       "    <tr>\n",
       "      <th>3</th>\n",
       "      <td>Geostorm</td>\n",
       "      <td>2017</td>\n",
       "      <td>PG-13</td>\n",
       "      <td>Action, Sci-Fi, Thriller</td>\n",
       "      <td>Dean Devlin</td>\n",
       "      <td>Gerard Butler, Jim Sturgess, Abbie Cornish, Al...</td>\n",
       "      <td>5.5</td>\n",
       "    </tr>\n",
       "    <tr>\n",
       "      <th>4</th>\n",
       "      <td>Same Kind Of Different As Me</td>\n",
       "      <td>2017</td>\n",
       "      <td>PG-13</td>\n",
       "      <td>Drama</td>\n",
       "      <td>Michael Carney</td>\n",
       "      <td>Renée Zellweger, Jon Voight, Greg Kinnear, Dji...</td>\n",
       "      <td>6.0</td>\n",
       "    </tr>\n",
       "  </tbody>\n",
       "</table>\n",
       "</div>"
      ],
      "text/plain": [
       "                          Title  Year  Rated                     Genre  \\\n",
       "0                        Jigsaw  2017      R    Crime, Horror, Mystery   \n",
       "1                    Suburbicon  2017      R     Crime, Drama, Mystery   \n",
       "2    Thank You For Your Service  2017      R     Biography, Drama, War   \n",
       "3                      Geostorm  2017  PG-13  Action, Sci-Fi, Thriller   \n",
       "4  Same Kind Of Different As Me  2017  PG-13                     Drama   \n",
       "\n",
       "                         Director  \\\n",
       "0  Michael Spierig, Peter Spierig   \n",
       "1                  George Clooney   \n",
       "2                      Jason Hall   \n",
       "3                     Dean Devlin   \n",
       "4                  Michael Carney   \n",
       "\n",
       "                                              Actors  imdbRating  \n",
       "0  Matt Passmore, Tobin Bell, Callum Keith Rennie...         6.1  \n",
       "1  Steve Monroe, Gavin Wilde, Landon Gordon, Hope...         5.4  \n",
       "2  Haley Bennett, Miles Teller, Joe Cole, Amy Sch...         6.6  \n",
       "3  Gerard Butler, Jim Sturgess, Abbie Cornish, Al...         5.5  \n",
       "4  Renée Zellweger, Jon Voight, Greg Kinnear, Dji...         6.0  "
      ]
     },
     "execution_count": 7,
     "metadata": {},
     "output_type": "execute_result"
    }
   ],
   "source": [
    "df.head()"
   ]
  },
  {
   "cell_type": "code",
   "execution_count": 5,
   "metadata": {},
   "outputs": [
    {
     "name": "stdout",
     "output_type": "stream",
     "text": [
      "<class 'pandas.core.frame.DataFrame'>\n",
      "RangeIndex: 112 entries, 0 to 111\n",
      "Data columns (total 7 columns):\n",
      "Title         112 non-null object\n",
      "Year          112 non-null object\n",
      "Rated         107 non-null object\n",
      "Genre         112 non-null object\n",
      "Director      107 non-null object\n",
      "Actors        112 non-null object\n",
      "imdbRating    110 non-null float64\n",
      "dtypes: float64(1), object(6)\n",
      "memory usage: 6.2+ KB\n"
     ]
    }
   ],
   "source": [
    "df.info()"
   ]
  },
  {
   "cell_type": "code",
   "execution_count": 6,
   "metadata": {},
   "outputs": [
    {
     "data": {
      "text/html": [
       "<div>\n",
       "<table border=\"1\" class=\"dataframe\">\n",
       "  <thead>\n",
       "    <tr style=\"text-align: right;\">\n",
       "      <th></th>\n",
       "      <th>imdbRating</th>\n",
       "    </tr>\n",
       "  </thead>\n",
       "  <tbody>\n",
       "    <tr>\n",
       "      <th>count</th>\n",
       "      <td>110.000000</td>\n",
       "    </tr>\n",
       "    <tr>\n",
       "      <th>mean</th>\n",
       "      <td>6.485455</td>\n",
       "    </tr>\n",
       "    <tr>\n",
       "      <th>std</th>\n",
       "      <td>0.942750</td>\n",
       "    </tr>\n",
       "    <tr>\n",
       "      <th>min</th>\n",
       "      <td>2.900000</td>\n",
       "    </tr>\n",
       "    <tr>\n",
       "      <th>25%</th>\n",
       "      <td>5.900000</td>\n",
       "    </tr>\n",
       "    <tr>\n",
       "      <th>50%</th>\n",
       "      <td>6.550000</td>\n",
       "    </tr>\n",
       "    <tr>\n",
       "      <th>75%</th>\n",
       "      <td>7.200000</td>\n",
       "    </tr>\n",
       "    <tr>\n",
       "      <th>max</th>\n",
       "      <td>8.400000</td>\n",
       "    </tr>\n",
       "  </tbody>\n",
       "</table>\n",
       "</div>"
      ],
      "text/plain": [
       "       imdbRating\n",
       "count  110.000000\n",
       "mean     6.485455\n",
       "std      0.942750\n",
       "min      2.900000\n",
       "25%      5.900000\n",
       "50%      6.550000\n",
       "75%      7.200000\n",
       "max      8.400000"
      ]
     },
     "execution_count": 6,
     "metadata": {},
     "output_type": "execute_result"
    }
   ],
   "source": [
    "df.describe()"
   ]
  },
  {
   "cell_type": "code",
   "execution_count": null,
   "metadata": {},
   "outputs": [],
   "source": []
  }
 ],
 "metadata": {
  "kernelspec": {
   "display_name": "Python 2",
   "language": "python",
   "name": "python2"
  },
  "language_info": {
   "codemirror_mode": {
    "name": "ipython",
    "version": 2
   },
   "file_extension": ".py",
   "mimetype": "text/x-python",
   "name": "python",
   "nbconvert_exporter": "python",
   "pygments_lexer": "ipython2",
   "version": "2.7.13"
  }
 },
 "nbformat": 4,
 "nbformat_minor": 2
}
